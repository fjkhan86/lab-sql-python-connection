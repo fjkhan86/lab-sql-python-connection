{
 "cells": [
  {
   "cell_type": "code",
   "execution_count": 4,
   "metadata": {},
   "outputs": [
    {
     "name": "stdout",
     "output_type": "stream",
     "text": [
      "   actor_id first_name     last_name         last_update\n",
      "0         1   PENELOPE       GUINESS 2006-02-15 04:34:33\n",
      "1         2       NICK      WAHLBERG 2006-02-15 04:34:33\n",
      "2         3         ED         CHASE 2006-02-15 04:34:33\n",
      "3         4   JENNIFER         DAVIS 2006-02-15 04:34:33\n",
      "4         5     JOHNNY  LOLLOBRIGIDA 2006-02-15 04:34:33\n",
      "5         6      BETTE     NICHOLSON 2006-02-15 04:34:33\n",
      "6         7      GRACE        MOSTEL 2006-02-15 04:34:33\n",
      "7         8    MATTHEW     JOHANSSON 2006-02-15 04:34:33\n",
      "8         9        JOE         SWANK 2006-02-15 04:34:33\n",
      "9        10  CHRISTIAN         GABLE 2006-02-15 04:34:33\n"
     ]
    }
   ],
   "source": [
    "import pandas as pd\n",
    "from sqlalchemy import create_engine\n",
    "\n",
    "# Define your connection string\n",
    "user = \"root\"\n",
    "password = \"Travel2323!!\"\n",
    "host = \"127.0.0.1\"\n",
    "port = \"3306\"\n",
    "db = \"sakila\"\n",
    "\n",
    "from sqlalchemy import create_engine\n",
    "connection_string = (f'mysql+mysqlconnector://{user}:{password}@{host}:{port}/{db}')\n",
    "\n",
    "# Create an engine\n",
    "engine = create_engine(connection_string)\n",
    "\n",
    "# Test the connection by reading a table\n",
    "query = 'SELECT * FROM actor LIMIT 10;'\n",
    "\n",
    "# Use pandas to execute the query and read the data into a DataFrame\n",
    "df = pd.read_sql(query, con=engine)\n",
    "\n",
    "# Display the DataFrame\n",
    "print(df)\n"
   ]
  },
  {
   "cell_type": "code",
   "execution_count": 5,
   "metadata": {},
   "outputs": [],
   "source": [
    "def rentals_month(engine, month, year):\n",
    "\n",
    "    \"\"\"\n",
    "    Retrieve rental data for a given month and year from the Sakila database.\n",
    "\n",
    "    Parameters:\n",
    "    engine: SQLAlchemy engine object for database connection.\n",
    "    month: Integer representing the month (1-12).\n",
    "    year: Integer representing the year (e.g., 2024).\n",
    "\n",
    "    Returns:\n",
    "    A Pandas DataFrame containing the rental data for the specified month and year.\n",
    "    \"\"\"\n",
    "    # Define the SQL query\n",
    "    query = f\"\"\"\n",
    "    SELECT *\n",
    "    FROM rental\n",
    "    WHERE MONTH(rental_date) = {month}\n",
    "      AND YEAR(rental_date) = {year}\n",
    "    \"\"\"\n",
    "\n",
    "    # Execute the query and return the results as a DataFrame\n",
    "    df = pd.read_sql(query, con=engine)\n",
    "    return df"
   ]
  },
  {
   "cell_type": "code",
   "execution_count": 6,
   "metadata": {},
   "outputs": [],
   "source": [
    "def rental_count_month(df, month, year):\n",
    "    \"\"\"\n",
    "    Count the number of rentals made by each customer during the specified month and year.\n",
    "    \n",
    "    Parameters:\n",
    "    df: DataFrame containing rental data.\n",
    "    month: Integer representing the month (1-12).\n",
    "    year: Integer representing the year (e.g., 2024).\n",
    "    \n",
    "    Returns:\n",
    "    A DataFrame with customer_id and the count of rentals for the specified month and year.\n",
    "    \"\"\"\n",
    "    # Format the column name based on the provided month and year\n",
    "    column_name = f\"rentals_{month:02d}_{year}\"\n",
    "    \n",
    "    # Group by customer_id and count the number of rentals\n",
    "    rental_counts = df.groupby('customer_id').size().reset_index(name=column_name)\n",
    "    \n",
    "    return rental_counts"
   ]
  },
  {
   "cell_type": "code",
   "execution_count": 7,
   "metadata": {},
   "outputs": [],
   "source": [
    "def compare_rentals(df1, df2):\n",
    "    \"\"\"\n",
    "    Compare the number of rentals made by each customer in two different months and years.\n",
    "    \n",
    "    Parameters:\n",
    "    df1: DataFrame containing the number of rentals made by each customer in the first month/year.\n",
    "    df2: DataFrame containing the number of rentals made by each customer in the second month/year.\n",
    "    \n",
    "    Returns:\n",
    "    A combined DataFrame with a new 'difference' column representing the difference in rentals.\n",
    "    \"\"\"\n",
    "    # Merge the two DataFrames on customer_id\n",
    "    df_combined = pd.merge(df1, df2, on='customer_id', how='outer', suffixes=('_month1', '_month2')).fillna(0)\n",
    "    \n",
    "    # Extract column names for rental counts\n",
    "    rental_col_month1 = df1.columns[1]\n",
    "    rental_col_month2 = df2.columns[1]\n",
    "    \n",
    "    # Calculate the difference between the two rental counts\n",
    "    df_combined['difference'] = df_combined[rental_col_month2] - df_combined[rental_col_month1]\n",
    "    \n",
    "    return df_combined"
   ]
  },
  {
   "cell_type": "code",
   "execution_count": 17,
   "metadata": {},
   "outputs": [
    {
     "data": {
      "text/plain": [
       "<function __main__.rental_count_month(df, month, year)>"
      ]
     },
     "execution_count": 17,
     "metadata": {},
     "output_type": "execute_result"
    }
   ],
   "source": [
    "rental_count_month"
   ]
  },
  {
   "cell_type": "code",
   "execution_count": null,
   "metadata": {},
   "outputs": [],
   "source": []
  }
 ],
 "metadata": {
  "kernelspec": {
   "display_name": "data_env",
   "language": "python",
   "name": "python3"
  },
  "language_info": {
   "codemirror_mode": {
    "name": "ipython",
    "version": 3
   },
   "file_extension": ".py",
   "mimetype": "text/x-python",
   "name": "python",
   "nbconvert_exporter": "python",
   "pygments_lexer": "ipython3",
   "version": "3.12.4"
  }
 },
 "nbformat": 4,
 "nbformat_minor": 2
}
